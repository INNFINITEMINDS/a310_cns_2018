{
 "cells": [
  {
   "cell_type": "markdown",
   "metadata": {},
   "source": [
    "# Homework 2 feedback"
   ]
  },
  {
   "cell_type": "markdown",
   "metadata": {},
   "source": [
    "## 1. Simple passive cable cable\n",
    "\n",
    "\n",
    "### 1.\n",
    "\n",
    "* Time constant: $\\tau = C_m R_m = C_m/G_m =$ 20 ms.\n",
    "* Space constant: $\\lambda = (r_m/r_a)^{1/2} = \\left( \\frac{R_m}{\\pi d} \\cdot {\\left(\\frac{4 R_a}{\\pi d^2}\\right)}^{-1} \\right)^{1/2} = \\left( \\frac{d}{4 R_i G_m}\\right)^{1/2}$ ≈ 577 μm.\n",
    "\n",
    "### 2.\n",
    "The measured $\\tau$ should be close to 20 ms.\n",
    "\n",
    "\n",
    "### 3. \n",
    "\n",
    "The measured $\\lambda$ should be close to 577 μm but can be larger since this is a finite cable whose length is close to the theoretical $\\lambda$ and the cable has sealed ends.\n",
    "|\n",
    "### 4. \n",
    "\n",
    "The cable end is more depolarized as the cable gets shorter since the current escape through the membrane becomes smaller. In the open end case, the opposite is true since the current sink becomes closer to the current source as the cable gets shorter. Therefore, the axon has sealed ends. Another way is to find the boundary condition is that $dV/dX$ ≈ 0 in the simulated data. "
   ]
  },
  {
   "cell_type": "markdown",
   "metadata": {},
   "source": [
    "## 2. Voltage signal filtering in a passive pyramidal neuron\n",
    "\n",
    "The following is an example code to generate simulation data"
   ]
  },
  {
   "cell_type": "code",
   "execution_count": 1,
   "metadata": {},
   "outputs": [
    {
     "name": "stdout",
     "output_type": "stream",
     "text": [
      "Inserting passive membrane properties\n",
      "\n",
      "Initializing uniform passive membrane properties\n",
      "\n"
     ]
    }
   ],
   "source": [
    "import numpy as np\n",
    "import matplotlib.pyplot as plt\n",
    "from neuron import h, gui\n",
    "import r18_1\n",
    "\n",
    "h.xopen(\"iclamp.ses\")\n",
    "\n",
    "\n",
    "def run(tstop=200):\n",
    "    \"\"\"runs a simulation and returns the membrane potential recording at the soma.\"\"\"\n",
    "    dt = 0.1 # Again we use 10kHz sampling rate, e.g. 0.1 ms interval\n",
    "    vrec = h.Vector() # The recording will be save in this vector\n",
    "    vrec.record(h.soma(0.5)._ref_v, dt)\n",
    "    \n",
    "    h.tstop = tstop  # Set how long the simulation will run.\n",
    "    h.init()\n",
    "    h.run()\n",
    "    \n",
    "    return vrec.c() # Should return a copy of the vector\n"
   ]
  },
  {
   "cell_type": "markdown",
   "metadata": {},
   "source": [
    "Now we record the maximum depolarization due to a sustained (`h.IClamp[0].dur`=150 ms) current injection, depending on electrode location."
   ]
  },
  {
   "cell_type": "code",
   "execution_count": 2,
   "metadata": {},
   "outputs": [],
   "source": [
    "# Reset lists\n",
    "vrecs = []\n",
    "distances = []"
   ]
  },
  {
   "cell_type": "code",
   "execution_count": 17,
   "metadata": {},
   "outputs": [
    {
     "name": "stdout",
     "output_type": "stream",
     "text": [
      "Number of simulations ran = 15\n"
     ]
    }
   ],
   "source": [
    "vrecs.append(run())\n",
    "# r18_1.distance_from_soma(ic) computes a distance from a soma \n",
    "# to the current clamp electrode\n",
    "distances.append(r18_1.distance_from_soma(h.IClamp[0]))\n",
    "\n",
    "print(\"Number of simulations ran =\", len(distances))"
   ]
  },
  {
   "cell_type": "code",
   "execution_count": 24,
   "metadata": {},
   "outputs": [],
   "source": [
    "dist_150 = distances\n",
    "v_150 = [v.max()+76 for v in vrecs]"
   ]
  },
  {
   "cell_type": "markdown",
   "metadata": {},
   "source": [
    "We do the same with a short (`h.IClamp[0].dur`=2.5 ms) current injection."
   ]
  },
  {
   "cell_type": "code",
   "execution_count": 28,
   "metadata": {},
   "outputs": [],
   "source": [
    "# Change the injection duration\n",
    "h.IClamp[0].dur = 2.5\n",
    "\n",
    "# Reset lists\n",
    "vrecs = []\n",
    "distances = []"
   ]
  },
  {
   "cell_type": "code",
   "execution_count": 41,
   "metadata": {},
   "outputs": [
    {
     "name": "stdout",
     "output_type": "stream",
     "text": [
      "Number of simulations ran = 13\n"
     ]
    }
   ],
   "source": [
    "vrecs.append(run())\n",
    "# r18_1.distance_from_soma(ic) computes a distance from a soma \n",
    "# to the current clamp electrode\n",
    "distances.append(r18_1.distance_from_soma(h.IClamp[0]))\n",
    "\n",
    "print(\"Number of simulations ran =\", len(distances))"
   ]
  },
  {
   "cell_type": "code",
   "execution_count": 45,
   "metadata": {},
   "outputs": [],
   "source": [
    "dist_2_5 = distances\n",
    "v_2_5 = [v.max()+76 for v in vrecs]"
   ]
  },
  {
   "cell_type": "markdown",
   "metadata": {},
   "source": [
    "We also compute the normalized depolarization, normalized by the voltage change due to a injection at soma."
   ]
  },
  {
   "cell_type": "code",
   "execution_count": 47,
   "metadata": {},
   "outputs": [],
   "source": [
    "nv_150 = [v/v_150[0] for v in v_150]\n",
    "nv_2_5 = [v/v_2_5[0] for v in v_2_5]"
   ]
  },
  {
   "cell_type": "code",
   "execution_count": 55,
   "metadata": {},
   "outputs": [
    {
     "data": {
      "text/plain": [
       "<matplotlib.legend.Legend at 0x11224da58>"
      ]
     },
     "execution_count": 55,
     "metadata": {},
     "output_type": "execute_result"
    },
    {
     "data": {
      "image/png": "[encoded data removed]",
      "text/plain": [
       "<Figure size 720x288 with 2 Axes>"
      ]
     },
     "metadata": {},
     "output_type": "display_data"
    }
   ],
   "source": [
    "fig, ax = plt.subplots(ncols=2, figsize=(10,4))\n",
    "ax[0].plot(dist_150, v_150, 'o', dist_2_5, v_2_5, 'o')\n",
    "ax[0].set(xlabel=\"Distance (um)\", ylabel=\"Depolarization (mV)\")\n",
    "ax[1].plot(dist_150, nv_150, 'o', dist_2_5, nv_2_5, 'o')\n",
    "ax[1].set(xlabel=\"Distance (um)\", ylabel=\"Normalized depol (mV)\")\n",
    "ax[1].legend((\"150 ms\", \"2.5 ms\"))\n"
   ]
  },
  {
   "cell_type": "markdown",
   "metadata": {},
   "source": [
    "We can see that the normalized depolarization drops more quickly around the soma, due to the filtering effect by dendritic branching."
   ]
  },
  {
   "cell_type": "markdown",
   "metadata": {},
   "source": [
    "## 3. Synaptic scaling\n",
    "\n",
    "### 1. \n",
    "Along an apical dendrite, `gmax` required to achieve an ~0.2 mV EPSP at soma grows nonlinearly as the following figure.\n",
    "\n",
    "![](hw21.png)\n",
    "\n",
    "Compared with the case when `gmax` is held constant (0.1 nS), the synaptic conductance needs to be scaled to achieve EPSP ~ 0.2 mV as the following figure. Note that the scaling factor deviates from ~1/EPSP, and therefore  `gmax` should be larger than a prediction that EPSP grows linearly with `gmax`. The effect is more pronounced in a distal dendrite, since the membrane potential is more depolarized with a synaptic input and therefore the synaptic current decreases --- a paradoxical effect that higher *local* depolarization due to a synaptic input causes less driving force for somatic excitation.\n",
    "\n",
    "![](hw22.png)\n",
    "\n",
    "\n",
    "\n",
    "### 2. \n",
    "\n",
    "If you probe dendrites very far from a soma in a tuft, an AMPA synapse can be **impossible to cause a ~2 mV EPSP**. In those dendrites, even when `gmax` is sufficiently large to make the membrane potential reach a reversal potential (0 mV, blue), the EPSP at soma is only ~ 0.25 mV (black). \n",
    "\n",
    "![](hw23.png)\n",
    "\n",
    "If you have not found this, which means that you did no go very far, the result here should be compatible with 1.\n",
    "\n",
    "\n"
   ]
  },
  {
   "cell_type": "markdown",
   "metadata": {},
   "source": [
    "## 4.  Summation of excitatory synaptic inputs\n",
    "\n",
    "The following is the example code for this question\n"
   ]
  },
  {
   "cell_type": "code",
   "execution_count": 1,
   "metadata": {},
   "outputs": [
    {
     "name": "stdout",
     "output_type": "stream",
     "text": [
      "Inserting passive membrane properties\n",
      "\n",
      "Initializing uniform passive membrane properties\n",
      "\n"
     ]
    }
   ],
   "source": [
    "import numpy as np\n",
    "import matplotlib.pyplot as plt\n",
    "from neuron import h, gui\n",
    "import r18_1\n",
    "\n",
    "h.xopen(\"two_syns.ses\")\n",
    "\n",
    "# Set up external stimuli to trigger excitatory synapses\n",
    "\n",
    "stims = []\n",
    "ncs = []\n",
    "for i in range(2):\n",
    "    stims.append(h.NetStim())\n",
    "    stims[-1].start = 50\n",
    "    stims[-1].number = 1\n",
    "    stims[-1].noise = 0\n",
    "\n",
    "    ncs.append(h.NetCon(stims[-1], h.Exp2Syn[i]))\n",
    "    ncs[-1].weight[-1] = 0.01\n",
    "\n",
    "\n"
   ]
  },
  {
   "cell_type": "code",
   "execution_count": 18,
   "metadata": {},
   "outputs": [],
   "source": [
    "dt = 0.1 # Again we use 10kHz sampling rate, e.g. 0.1 ms interval\n",
    "\n",
    "def run(tstop=200):\n",
    "    \n",
    "    vrec = h.Vector() # The recording will be save in this vector\n",
    "    vrec.record(h.soma(0.5)._ref_v, dt)\n",
    "    \n",
    "    h.tstop = tstop  # Set how long the simulation will run.\n",
    "    h.init()\n",
    "    h.run()\n",
    "    \n",
    "    vrec = vrec.c().to_python() # Make the NEURON vector to a Python list\n",
    "    vrec = np.array(vrec)       # Make the list into a NumPy array\n",
    "    vrec = vrec + 76            # Subtract the resting membrane potential\n",
    "    return \n",
    "\n",
    "\n",
    "def run_whole_sim():\n",
    "    \n",
    "    # Reset all the conductance for synaptic connections to 10 nS\n",
    "    for nc in ncs:\n",
    "        nc.weight[0] = 0.01\n",
    "\n",
    "    v_total = run() # EPSP with two stimuli\n",
    "    \n",
    "    # Turn off synaptic connection 1.\n",
    "    ncs[1].weight[0] = 0\n",
    "    \n",
    "    v_only_1 = run()\n",
    "    \n",
    "    # Now turn off synaptic connection 2 while turning on connection 2\n",
    "    ncs[0].weight[0] = 0\n",
    "    ncs[1].weight[0] = 0.01\n",
    "    \n",
    "    v_only_2 = run()\n",
    "    \n",
    "    return v_total, v_only_1, v_only_2\n"
   ]
  },
  {
   "cell_type": "code",
   "execution_count": 24,
   "metadata": {},
   "outputs": [
    {
     "data": {
      "text/plain": [
       "[Text(0,0.5,'EPSP (mV)'), Text(0.5,0,'Time (ms)')]"
      ]
     },
     "execution_count": 24,
     "metadata": {},
     "output_type": "execute_result"
    },
    {
     "data": {
      "image/png": "[encoded data removed]",
      "text/plain": [
       "<Figure size 432x288 with 1 Axes>"
      ]
     },
     "metadata": {},
     "output_type": "display_data"
    }
   ],
   "source": [
    "dt = 0.1 # Again we use 10kHz sampling rate, e.g. 0.1 ms interval\n",
    "\n",
    "# We first run the case when two synapses are on different branches\n",
    "\n",
    "v0, v1, v2 = run_whole_sim()\n",
    "\n",
    "t = np.arange(v0.size)*dt\n",
    "\n",
    "fig, ax = plt.subplots()\n",
    "ax.plot(t, v0, t, v1, t, v2, t, v1+v2, '--')\n",
    "ax.legend(('EPSP(1+2)', 'EPSP(1)', 'EPSP(2)', 'EPSP(1)+EPSP(2)'))\n",
    "ax.set(xlabel='Time (ms)', ylabel='EPSP (mV)')"
   ]
  },
  {
   "cell_type": "code",
   "execution_count": 25,
   "metadata": {},
   "outputs": [
    {
     "data": {
      "text/plain": [
       "[Text(0,0.5,'EPSP (mV)'), Text(0.5,0,'Time (ms)')]"
      ]
     },
     "execution_count": 25,
     "metadata": {},
     "output_type": "execute_result"
    },
    {
     "data": {
      "image/png": "[encoded data removed]",
      "text/plain": [
       "<Figure size 432x288 with 1 Axes>"
      ]
     },
     "metadata": {},
     "output_type": "display_data"
    }
   ],
   "source": [
    "v0, v1, v2 = run_whole_sim()\n",
    "\n",
    "# Now we run the case when two synapses are on the same branch\n",
    "\n",
    "t = np.arange(v0.size)*dt\n",
    "\n",
    "fig, ax = plt.subplots()\n",
    "ax.plot(t, v0, t, v1, t, v2, t, v1+v2, '--')\n",
    "ax.legend(('EPSP(1+2)', 'EPSP(1)', 'EPSP(2)', 'EPSP(1)+EPSP(2)'))\n",
    "ax.set(xlabel='Time (ms)', ylabel='EPSP (mV)')"
   ]
  },
  {
   "cell_type": "markdown",
   "metadata": {},
   "source": [
    "Here we see a sublinear summation effect."
   ]
  },
  {
   "cell_type": "markdown",
   "metadata": {},
   "source": [
    "## 5.  Summation of excitatory and inhibitory synaptic inputs \n",
    "\n",
    "### 1, 2, 3\n",
    "\n",
    "The following is the example code:"
   ]
  },
  {
   "cell_type": "code",
   "execution_count": 2,
   "metadata": {},
   "outputs": [
    {
     "name": "stdout",
     "output_type": "stream",
     "text": [
      "Inserting passive membrane properties\n",
      "\n",
      "Initializing uniform passive membrane properties\n",
      "\n"
     ]
    },
    {
     "data": {
      "text/plain": [
       "1.0"
      ]
     },
     "execution_count": 2,
     "metadata": {},
     "output_type": "execute_result"
    }
   ],
   "source": [
    "import numpy as np\n",
    "import matplotlib.pyplot as plt\n",
    "from neuron import h, gui\n",
    "import r18_1\n",
    "\n",
    "h.xopen(\"two_syns.ses\")\n",
    "\n",
    "stims = []\n",
    "ncs = []\n",
    "for i in range(2):\n",
    "    stims.append(h.NetStim())\n",
    "    stims[-1].start = 50\n",
    "    stims[-1].number = 1\n",
    "    stims[-1].noise = 0\n",
    "\n",
    "    ncs.append(h.NetCon(stims[-1], h.Exp2Syn[i]))\n",
    "    ncs[-1].weight[-1] = 0.01\n",
    "\n",
    "# Here we use an adaptive integrator to speed up the simulation\n",
    "cv = h.CVode()\n",
    "cv.active(1)\n",
    "    "
   ]
  },
  {
   "cell_type": "code",
   "execution_count": 3,
   "metadata": {},
   "outputs": [],
   "source": [
    "h.Exp2Syn[1].e = -76\n",
    "h.Exp2Syn[1].tau2 = 100\n",
    "stims[1].start = 0"
   ]
  },
  {
   "cell_type": "code",
   "execution_count": 14,
   "metadata": {},
   "outputs": [],
   "source": [
    "dt = 0.1\n",
    "def run(tstop=200):\n",
    "    \n",
    "    vrec = h.Vector() # The recording will be save in this vector\n",
    "    vrec.record(h.soma(0.5)._ref_v, dt)\n",
    "    \n",
    "    h.tstop = tstop  # Set how long the simulation will run.\n",
    "    h.init()\n",
    "    h.run()\n",
    "    \n",
    "    return vrec.max()+76\n",
    "\n",
    "\n",
    "# Here we run simulations for a given excitatory conductance\n",
    "gEsyns = 10**np.arange(-6, 10.1, 1)\n",
    "\n",
    "def run_one_batch():\n",
    "    epsps = []\n",
    "    for gsyn in gEsyns:\n",
    "        ncs[0].weight[0] = gsyn\n",
    "        epsps.append(run())\n",
    "    return epsps\n"
   ]
  },
  {
   "cell_type": "code",
   "execution_count": 34,
   "metadata": {
    "collapsed": true
   },
   "outputs": [
    {
     "name": "stdout",
     "output_type": "stream",
     "text": [
      "gIsyn = 0.0\n",
      "Changed dt\n",
      "Changed dt\n",
      "Changed dt\n",
      "Changed dt\n",
      "Changed dt\n",
      "Changed dt\n",
      "Changed dt\n",
      "Changed dt\n",
      "Changed dt\n",
      "Changed dt\n",
      "Changed dt\n",
      "Changed dt\n",
      "Changed dt\n",
      "Changed dt\n",
      "Changed dt\n",
      "Changed dt\n",
      "Changed dt\n",
      "gIsyn = 0.002\n",
      "Changed dt\n",
      "Changed dt\n",
      "Changed dt\n",
      "Changed dt\n",
      "Changed dt\n",
      "Changed dt\n",
      "Changed dt\n",
      "Changed dt\n",
      "Changed dt\n",
      "Changed dt\n",
      "Changed dt\n",
      "Changed dt\n",
      "Changed dt\n",
      "Changed dt\n",
      "Changed dt\n",
      "Changed dt\n",
      "Changed dt\n",
      "gIsyn = 0.004\n",
      "Changed dt\n",
      "Changed dt\n",
      "Changed dt\n",
      "Changed dt\n",
      "Changed dt\n",
      "Changed dt\n",
      "Changed dt\n",
      "Changed dt\n",
      "Changed dt\n",
      "Changed dt\n",
      "Changed dt\n",
      "Changed dt\n",
      "Changed dt\n",
      "Changed dt\n",
      "Changed dt\n",
      "Changed dt\n",
      "Changed dt\n",
      "gIsyn = 0.006\n",
      "Changed dt\n",
      "Changed dt\n",
      "Changed dt\n",
      "Changed dt\n",
      "Changed dt\n",
      "Changed dt\n",
      "Changed dt\n",
      "Changed dt\n",
      "Changed dt\n",
      "Changed dt\n",
      "Changed dt\n",
      "Changed dt\n",
      "Changed dt\n",
      "Changed dt\n",
      "Changed dt\n",
      "Changed dt\n",
      "Changed dt\n",
      "gIsyn = 0.008\n",
      "Changed dt\n",
      "Changed dt\n",
      "Changed dt\n",
      "Changed dt\n",
      "Changed dt\n",
      "Changed dt\n",
      "Changed dt\n",
      "Changed dt\n",
      "Changed dt\n",
      "Changed dt\n",
      "Changed dt\n",
      "Changed dt\n",
      "Changed dt\n",
      "Changed dt\n",
      "Changed dt\n",
      "Changed dt\n",
      "Changed dt\n"
     ]
    }
   ],
   "source": [
    "# And also we change the inhibitory conductance as well\n",
    "# when the inhibitory synapse is at the proximal part,\n",
    "gIsyns = np.arange(0, 0.01, 0.002)\n",
    "\n",
    "epsps = []\n",
    "for gsyn in gIsyns:\n",
    "    print('gIsyn =', gsyn)\n",
    "    ncs[1].weight[0] = gsyn\n",
    "    epsps.append(run_one_batch())\n",
    "\n",
    "epsp_prox = epsps"
   ]
  },
  {
   "cell_type": "code",
   "execution_count": 33,
   "metadata": {
    "collapsed": true
   },
   "outputs": [
    {
     "name": "stdout",
     "output_type": "stream",
     "text": [
      "gIsyn = 0.0\n",
      "Changed dt\n",
      "Changed dt\n",
      "Changed dt\n",
      "Changed dt\n",
      "Changed dt\n",
      "Changed dt\n",
      "Changed dt\n",
      "Changed dt\n",
      "Changed dt\n",
      "Changed dt\n",
      "Changed dt\n",
      "Changed dt\n",
      "Changed dt\n",
      "Changed dt\n",
      "Changed dt\n",
      "Changed dt\n",
      "Changed dt\n",
      "gIsyn = 0.002\n",
      "Changed dt\n",
      "Changed dt\n",
      "Changed dt\n",
      "Changed dt\n",
      "Changed dt\n",
      "Changed dt\n",
      "Changed dt\n",
      "Changed dt\n",
      "Changed dt\n",
      "Changed dt\n",
      "Changed dt\n",
      "Changed dt\n",
      "Changed dt\n",
      "Changed dt\n",
      "Changed dt\n",
      "Changed dt\n",
      "Changed dt\n",
      "gIsyn = 0.004\n",
      "Changed dt\n",
      "Changed dt\n",
      "Changed dt\n",
      "Changed dt\n",
      "Changed dt\n",
      "Changed dt\n",
      "Changed dt\n",
      "Changed dt\n",
      "Changed dt\n",
      "Changed dt\n",
      "Changed dt\n",
      "Changed dt\n",
      "Changed dt\n",
      "Changed dt\n",
      "Changed dt\n",
      "Changed dt\n",
      "Changed dt\n",
      "gIsyn = 0.006\n",
      "Changed dt\n",
      "Changed dt\n",
      "Changed dt\n",
      "Changed dt\n",
      "Changed dt\n",
      "Changed dt\n",
      "Changed dt\n",
      "Changed dt\n",
      "Changed dt\n",
      "Changed dt\n",
      "Changed dt\n",
      "Changed dt\n",
      "Changed dt\n",
      "Changed dt\n",
      "Changed dt\n",
      "Changed dt\n",
      "Changed dt\n",
      "gIsyn = 0.008\n",
      "Changed dt\n",
      "Changed dt\n",
      "Changed dt\n",
      "Changed dt\n",
      "Changed dt\n",
      "Changed dt\n",
      "Changed dt\n",
      "Changed dt\n",
      "Changed dt\n",
      "Changed dt\n",
      "Changed dt\n",
      "Changed dt\n",
      "Changed dt\n",
      "Changed dt\n",
      "Changed dt\n",
      "Changed dt\n",
      "Changed dt\n"
     ]
    }
   ],
   "source": [
    "# ... and when the inhibitory synapse is very close to the excitatory synapse,\n",
    "\n",
    "epsps = []\n",
    "for gsyn in gIsyns:\n",
    "    print('gIsyn =', gsyn)\n",
    "    ncs[1].weight[0] = gsyn\n",
    "    epsps.append(run_one_batch())\n",
    "\n",
    "epsp_dist = epsps"
   ]
  },
  {
   "cell_type": "code",
   "execution_count": 35,
   "metadata": {
    "collapsed": true
   },
   "outputs": [
    {
     "name": "stdout",
     "output_type": "stream",
     "text": [
      "gIsyn = 0.0\n",
      "Changed dt\n",
      "Changed dt\n",
      "Changed dt\n",
      "Changed dt\n",
      "Changed dt\n",
      "Changed dt\n",
      "Changed dt\n",
      "Changed dt\n",
      "Changed dt\n",
      "Changed dt\n",
      "Changed dt\n",
      "Changed dt\n",
      "Changed dt\n",
      "Changed dt\n",
      "Changed dt\n",
      "Changed dt\n",
      "Changed dt\n",
      "gIsyn = 0.002\n",
      "Changed dt\n",
      "Changed dt\n",
      "Changed dt\n",
      "Changed dt\n",
      "Changed dt\n",
      "Changed dt\n",
      "Changed dt\n",
      "Changed dt\n",
      "Changed dt\n",
      "Changed dt\n",
      "Changed dt\n",
      "Changed dt\n",
      "Changed dt\n",
      "Changed dt\n",
      "Changed dt\n",
      "Changed dt\n",
      "Changed dt\n",
      "gIsyn = 0.004\n",
      "Changed dt\n",
      "Changed dt\n",
      "Changed dt\n",
      "Changed dt\n",
      "Changed dt\n",
      "Changed dt\n",
      "Changed dt\n",
      "Changed dt\n",
      "Changed dt\n",
      "Changed dt\n",
      "Changed dt\n",
      "Changed dt\n",
      "Changed dt\n",
      "Changed dt\n",
      "Changed dt\n",
      "Changed dt\n",
      "Changed dt\n",
      "gIsyn = 0.006\n",
      "Changed dt\n",
      "Changed dt\n",
      "Changed dt\n",
      "Changed dt\n",
      "Changed dt\n",
      "Changed dt\n",
      "Changed dt\n",
      "Changed dt\n",
      "Changed dt\n",
      "Changed dt\n",
      "Changed dt\n",
      "Changed dt\n",
      "Changed dt\n",
      "Changed dt\n",
      "Changed dt\n",
      "Changed dt\n",
      "Changed dt\n",
      "gIsyn = 0.008\n",
      "Changed dt\n",
      "Changed dt\n",
      "Changed dt\n",
      "Changed dt\n",
      "Changed dt\n",
      "Changed dt\n",
      "Changed dt\n",
      "Changed dt\n",
      "Changed dt\n",
      "Changed dt\n",
      "Changed dt\n",
      "Changed dt\n",
      "Changed dt\n",
      "Changed dt\n",
      "Changed dt\n",
      "Changed dt\n",
      "Changed dt\n"
     ]
    }
   ],
   "source": [
    "# ... and when the inhibitory synapse is on a different branch.\n",
    "\n",
    "epsps = []\n",
    "for gsyn in gIsyns:\n",
    "    print('gIsyn =', gsyn)\n",
    "    ncs[1].weight[0] = gsyn\n",
    "    epsps.append(run_one_batch())\n",
    "\n",
    "epsp_diff = epsps"
   ]
  },
  {
   "cell_type": "code",
   "execution_count": 38,
   "metadata": {},
   "outputs": [
    {
     "data": {
      "image/png": "[encoded data removed]",
      "text/plain": [
       "<Figure size 1080x288 with 3 Axes>"
      ]
     },
     "metadata": {},
     "output_type": "display_data"
    }
   ],
   "source": [
    "fig, ax = plt.subplots(ncols=3, figsize=(15,4), sharey=True)\n",
    "\n",
    "for i, _ in enumerate(epsp_prox):\n",
    "    ax[0].semilogx(gEsyns, epsp_prox[i], color=[0.2*i]*3)\n",
    "    ax[1].semilogx(gEsyns, epsp_dist[i], color=[0.2*i]*3)\n",
    "    ax[2].semilogx(gEsyns, epsp_diff[i], color=[0.2*i]*3)\n",
    "    ax[2].legend(('0', '2', '4', '6'), loc=4, frameon=False, title='Inhibition (pS)')\n",
    "    ax[0].set(xlabel='Excitation (pS)', ylabel='EPSP (mV)', title='Proximal inhibition')\n",
    "    ax[1].set(xlabel='Excitation (pS)', title='Distal inhibition')\n",
    "    ax[2].set(xlabel='Excitation (pS)', title='Different branch')"
   ]
  },
  {
   "cell_type": "markdown",
   "metadata": {},
   "source": [
    "As in the textbook, what the proximal inhibition case shows is called \"divisive inhibition\" whereas the distal case is called \"subtractive inhibition.\" It is tempting to conclude that PV neurons perform divisive inhibition while SOM neurons do subtraction on the pyramidal cell's output, but here we have looked into only the membrane potential, not the spike output, which is a non-trivial problem."
   ]
  },
  {
   "cell_type": "code",
   "execution_count": null,
   "metadata": {},
   "outputs": [],
   "source": []
  }
 ],
 "metadata": {
  "kernel_info": {
   "name": "python3"
  },
  "kernelspec": {
   "display_name": "Python 3",
   "language": "python",
   "name": "python3"
  },
  "language_info": {
   "codemirror_mode": {
    "name": "ipython",
    "version": 3
   },
   "file_extension": ".py",
   "mimetype": "text/x-python",
   "name": "python",
   "nbconvert_exporter": "python",
   "pygments_lexer": "ipython3",
   "version": "3.6.4"
  },
  "nteract": {
   "version": "0.7.0"
  }
 },
 "nbformat": 4,
 "nbformat_minor": 2
}
